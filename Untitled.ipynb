{
 "cells": [
  {
   "cell_type": "code",
   "execution_count": 6,
   "id": "8b52ab27-3916-40b9-bee0-39caa1cdba0e",
   "metadata": {},
   "outputs": [],
   "source": [
    "import unicodedata"
   ]
  },
  {
   "cell_type": "code",
   "execution_count": 12,
   "id": "dad8e4e8-74f1-46e3-a2c6-569d62a835f1",
   "metadata": {},
   "outputs": [],
   "source": [
    "a = [unicodedata.normalize(\"NFKC\", x) for x in a]"
   ]
  },
  {
   "cell_type": "code",
   "execution_count": 13,
   "id": "7a3cc6cd-3e31-476e-a035-49406c96450e",
   "metadata": {},
   "outputs": [],
   "source": [
    "b = [x.upper() for x in a]"
   ]
  },
  {
   "cell_type": "code",
   "execution_count": null,
   "id": "f0c3958a-1a18-4513-b213-62b7eae170a9",
   "metadata": {},
   "outputs": [],
   "source": []
  }
 ],
 "metadata": {
  "kernelspec": {
   "display_name": "Python 3",
   "language": "python",
   "name": "python3"
  },
  "language_info": {
   "codemirror_mode": {
    "name": "ipython",
    "version": 3
   },
   "file_extension": ".py",
   "mimetype": "text/x-python",
   "name": "python",
   "nbconvert_exporter": "python",
   "pygments_lexer": "ipython3",
   "version": "3.6.9"
  }
 },
 "nbformat": 4,
 "nbformat_minor": 5
}
